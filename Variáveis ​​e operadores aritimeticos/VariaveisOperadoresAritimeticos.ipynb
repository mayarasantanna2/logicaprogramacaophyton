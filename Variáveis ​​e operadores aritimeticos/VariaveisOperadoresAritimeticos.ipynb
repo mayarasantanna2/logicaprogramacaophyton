{
  "nbformat": 4,
  "nbformat_minor": 0,
  "metadata": {
    "colab": {
      "provenance": [],
      "authorship_tag": "ABX9TyOWVniprij31d6JoxD2UeYm",
      "include_colab_link": true
    },
    "kernelspec": {
      "name": "python3",
      "display_name": "Python 3"
    },
    "language_info": {
      "name": "python"
    }
  },
  "cells": [
    {
      "cell_type": "markdown",
      "metadata": {
        "id": "view-in-github",
        "colab_type": "text"
      },
      "source": [
        "<a href=\"https://colab.research.google.com/github/mayarasantanna2/logicaprogramacaophyton/blob/main/VariaveisOperadoresAritimeticos.ipynb\" target=\"_parent\"><img src=\"https://colab.research.google.com/assets/colab-badge.svg\" alt=\"Open In Colab\"/></a>"
      ]
    },
    {
      "cell_type": "markdown",
      "source": [],
      "metadata": {
        "id": "aA3VYsVBBokJ"
      }
    },
    {
      "cell_type": "markdown",
      "source": [
        "###area quadrado"
      ],
      "metadata": {
        "id": "adotVMjoBeiw"
      }
    },
    {
      "cell_type": "code",
      "execution_count": null,
      "metadata": {
        "colab": {
          "base_uri": "https://localhost:8080/"
        },
        "id": "J1mdkG7xBA-8",
        "outputId": "9ce21d6d-759c-4da7-ae74-49bb0883f196"
      },
      "outputs": [
        {
          "output_type": "stream",
          "name": "stdout",
          "text": [
            "digite o lado do quadrado: 4\n",
            "a area do quadrado e:  16.0\n"
          ]
        }
      ],
      "source": [
        "#entrada\n",
        "l = float(input(\"digite o lado do quadrado: \"))\n",
        "#processamento\n",
        "a = l*l\n",
        "#saida\n",
        "print(\"a area do quadrado e: \", a)\n"
      ]
    },
    {
      "cell_type": "markdown",
      "source": [
        "###area retangulo"
      ],
      "metadata": {
        "id": "rgXyK9lBKAdw"
      }
    },
    {
      "cell_type": "code",
      "source": [
        "#entrada\n",
        "base = float (input(\"digite a base do retangulo: \"))\n",
        "altura = float(input(\"digite a altura do retangulo: \"))\n"
      ],
      "metadata": {
        "colab": {
          "base_uri": "https://localhost:8080/"
        },
        "id": "kWVavREnKbcJ",
        "outputId": "0fc0a194-ae0e-4a03-9076-15e1d35bc18b"
      },
      "execution_count": null,
      "outputs": [
        {
          "name": "stdout",
          "output_type": "stream",
          "text": [
            "digite a base do retangulo: 5\n",
            "digite a altura do retangulo: 2\n"
          ]
        }
      ]
    },
    {
      "cell_type": "code",
      "source": [
        "#processamento\n",
        "area = base*altura\n"
      ],
      "metadata": {
        "id": "5Iru1rGuLrw4"
      },
      "execution_count": null,
      "outputs": []
    },
    {
      "cell_type": "code",
      "source": [
        "#saida\n",
        "print(\"a area do reantulo e: \",area)"
      ],
      "metadata": {
        "colab": {
          "base_uri": "https://localhost:8080/"
        },
        "id": "Pr9PqpsvL3gC",
        "outputId": "e681ff99-6911-4136-de84-3d81ba5705f4"
      },
      "execution_count": null,
      "outputs": [
        {
          "output_type": "stream",
          "name": "stdout",
          "text": [
            "a area do reantulo e:  10.0\n"
          ]
        }
      ]
    },
    {
      "cell_type": "markdown",
      "source": [
        "### area do trapezio"
      ],
      "metadata": {
        "id": "QizQXJHPMIsq"
      }
    },
    {
      "cell_type": "code",
      "source": [
        "#entrada\n",
        "b1= float (input(\"digite a base maior do trapezio: \"))\n",
        "b2= float (input(\"digite a base menor do trapezio: \"))\n",
        "h= float (input(\"digite a altura do trapezio: \"))\n"
      ],
      "metadata": {
        "colab": {
          "base_uri": "https://localhost:8080/"
        },
        "id": "Re1uTvkNMW_P",
        "outputId": "8ac46666-6662-4829-ab38-f32df3108f79"
      },
      "execution_count": null,
      "outputs": [
        {
          "name": "stdout",
          "output_type": "stream",
          "text": [
            "digite a base maior do trapezio: 5\n",
            "digite a base menor do trapezio: 2\n",
            "digite a altura do trapezio: 3\n"
          ]
        }
      ]
    },
    {
      "cell_type": "code",
      "source": [
        "#processamento\n",
        "areat= (b1+b2)*h/2"
      ],
      "metadata": {
        "id": "pnP0pcgiNTyM"
      },
      "execution_count": null,
      "outputs": []
    },
    {
      "cell_type": "code",
      "source": [
        "#saida\n",
        "print(\"a area do trapezio e: \", areat)\n"
      ],
      "metadata": {
        "colab": {
          "base_uri": "https://localhost:8080/"
        },
        "id": "P9xsX6s_NfBN",
        "outputId": "22df3534-ef6a-49c5-9d69-6d2272c5609b"
      },
      "execution_count": null,
      "outputs": [
        {
          "output_type": "stream",
          "name": "stdout",
          "text": [
            "a area do trapezio e:  10.5\n"
          ]
        }
      ]
    },
    {
      "cell_type": "markdown",
      "source": [
        "### Azulejos\n"
      ],
      "metadata": {
        "id": "L5JhoMQyRL16"
      }
    },
    {
      "cell_type": "code",
      "source": [
        "2#entrada\n",
        "alturaazul= float (input(\"digite a altura do azulejo: \"))\n",
        "baseazul= float (input(\"digite a largura do azulejo: \"))\n",
        "alturaparede= float (input(\"digite a altura da parede: \"))\n",
        "baseparede= float (input(\"digite a largura da parede: \"))"
      ],
      "metadata": {
        "colab": {
          "base_uri": "https://localhost:8080/"
        },
        "id": "nVFHaQOKRfoE",
        "outputId": "32871817-20ff-4723-92fc-aef1e069f215"
      },
      "execution_count": null,
      "outputs": [
        {
          "name": "stdout",
          "output_type": "stream",
          "text": [
            "digite a altura do azulejo: 4\n",
            "digite a largura do azulejo: 3\n",
            "digite a altura da parede: 4\n",
            "digite a largura da parede: 6\n"
          ]
        }
      ]
    },
    {
      "cell_type": "code",
      "source": [
        "#processamento 1\n",
        "areaazul= alturaazul*baseazul\n",
        "areaparede= alturaparede*baseparede\n",
        "areaazulmetros= areaazul/100\n",
        "total= areaparede/areaazulmetros"
      ],
      "metadata": {
        "id": "s_1WC1YGSnnV"
      },
      "execution_count": null,
      "outputs": []
    },
    {
      "cell_type": "code",
      "source": [
        "#saida\n",
        "print(\"Voce ira precisar de: \",total, \"azulejos\")"
      ],
      "metadata": {
        "colab": {
          "base_uri": "https://localhost:8080/"
        },
        "id": "O0Gf_LxgTUnl",
        "outputId": "ebf89de8-eeee-4f15-f4b2-26588f2efddc"
      },
      "execution_count": null,
      "outputs": [
        {
          "output_type": "stream",
          "name": "stdout",
          "text": [
            "Voce ira precisar de:  200.0 azulejos\n"
          ]
        }
      ]
    }
  ]
}
